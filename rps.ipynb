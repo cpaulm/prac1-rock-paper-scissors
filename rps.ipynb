{
 "cells": [
  {
   "cell_type": "code",
   "execution_count": 3,
   "metadata": {},
   "outputs": [
    {
     "name": "stdout",
     "output_type": "stream",
     "text": [
      "Hello World!\n"
     ]
    }
   ],
   "source": [
    "print(\"Hello World!\")"
   ]
  },
  {
   "cell_type": "code",
   "execution_count": 1,
   "metadata": {},
   "outputs": [
    {
     "name": "stdout",
     "output_type": "stream",
     "text": [
      "Welcome to Rock, Paper, Scissors! \n",
      "This game was developed by Paul\n"
     ]
    }
   ],
   "source": [
    "import msvcrt\n",
    "\n",
    "# Rock, Paper, Scissors game in command line\n",
    "# Upon running the program, text is \"Welcome to Rock, Paper, Scissors! \\n This game was developed by Paul\"\n",
    "\n",
    "def masked_input(prompt=\"\"):\n",
    "    print(prompt, end=\"\", flush=True)\n",
    "    actual_input = \"\"\n",
    "    while True:\n",
    "        char = msvcrt.getch()  # Get a single character\n",
    "        if char == b'\\r':  # Enter key (Carriage Return)\n",
    "            print()  # Move to the next line\n",
    "            break\n",
    "        elif char == b'\\x08':  # Backspace key\n",
    "            if actual_input:  # Only if there are characters to delete\n",
    "                actual_input = actual_input[:-1]\n",
    "                print(\"\\b \\b\", end=\"\", flush=True)\n",
    "        else:\n",
    "            actual_input += char.decode('utf-8')  # Decode byte to string\n",
    "            print(\"*\", end=\"\", flush=True)\n",
    "    return actual_input\n",
    "\n",
    "def choice(player):\n",
    "    print(f\"\"\"{player} choices: Press \n",
    "            A for Rock, \n",
    "            S for Paper, \n",
    "            D for Scissors\"\"\")\n",
    "    p1_choice = input(\"Enter your choice: \")\n",
    "    if p1_choice == \"A\" and p2_choice == \"1\":\n",
    "        print(\"Rock vs Rock\")\n",
    "        print(\"It's a tie!\")\n",
    "\n",
    "\n",
    "def winner():\n",
    "    pass\n",
    "    \n",
    "\n",
    "def main():\n",
    "    print(\"\"\"Welcome to Rock, Paper, Scissors!\n",
    "          This game was developed by Paul\"\"\")\n",
    "    \n",
    "    choices = [\"Rock\", \"Paper\", \"Scissors\"]\n",
    "    print(\"\"\"Game rules: \n",
    "          Rock beats Scissors\n",
    "          Scissors beats Paper\n",
    "          Paper beats Rock\"\"\")\n",
    "    \n",
    "    option = input(\"Start game (y/n): \")\n",
    "\n",
    "    if option == \"y\":\n",
    "        print(\"\"\"Game modes:\n",
    "            1 - Human vs Human\n",
    "            2 - Human vs Computer\"\"\")\n",
    "        \n",
    "        mode_chosen = input(int(\"Choose game mode (1 or 2): \"))            \n",
    "    else:\n",
    "        print(\"Goodbye!\")\n",
    "        exit()\n",
    "\n",
    "    while True:\n",
    "        if mode_chosen == 1 or mode_chosen == 2:\n",
    "            if mode_chosen == \"1\":\n",
    "                player1 = input(\"Enter Player1 name: \")\n",
    "                player2 = input(\"Enter Player2 name: \")\n",
    "                \n",
    "                print(f\"Player1: {player1} vs Player2: {player2}\")\n",
    "                \n",
    "                \n",
    "                print(f\"\"\"{player2} choices: Press \n",
    "                    1 for Rock, \n",
    "                    2 for Paper, \n",
    "                    3 for Scissors\"\"\")\n",
    "                p2_choice = input(\"Enter your choice: \")\n",
    "                \n",
    "            elif mode_chosen == \"2\":\n",
    "                player1 = input(\"Enter Player1 name: \")\n",
    "                player2 = \"Computer\"\n",
    "        elif mode_chosen == \"exit\":\n",
    "            print(\"Goodbye!\")\n",
    "            exit()\n",
    "        else:\n",
    "            print(\"\"\"Please enter a valid option.\n",
    "                Type exit to quit the game\"\"\")\n",
    "        \n",
    "    \n",
    "if __name__ == \"__main__\":\n",
    "    main()\n",
    "    \n",
    "\n",
    "\n",
    "\n",
    "\n"
   ]
  },
  {
   "cell_type": "code",
   "execution_count": 5,
   "metadata": {},
   "outputs": [
    {
     "name": "stdout",
     "output_type": "stream",
     "text": [
      "A\n",
      "B\n",
      "C\n"
     ]
    }
   ],
   "source": [
    "def foo1():\n",
    "    print(\"A\")        # Prints \"A\"\n",
    "    foo2()            # Calls foo2, which prints \"B\"\n",
    "    foo3()            # Calls foo3, which prints \"C\"\n",
    "\n",
    "def foo2():\n",
    "    print(\"B\")        # Prints \"B\"\n",
    "\n",
    "def foo3():\n",
    "    print(\"C\")        # Prints \"C\"\n",
    "\n",
    "# Call foo1\n",
    "foo1()"
   ]
  }
 ],
 "metadata": {
  "kernelspec": {
   "display_name": ".venv",
   "language": "python",
   "name": "python3"
  },
  "language_info": {
   "codemirror_mode": {
    "name": "ipython",
    "version": 3
   },
   "file_extension": ".py",
   "mimetype": "text/x-python",
   "name": "python",
   "nbconvert_exporter": "python",
   "pygments_lexer": "ipython3",
   "version": "3.12.2"
  }
 },
 "nbformat": 4,
 "nbformat_minor": 2
}
