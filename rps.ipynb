{
 "cells": [
  {
   "cell_type": "code",
   "execution_count": 3,
   "metadata": {},
   "outputs": [
    {
     "name": "stdout",
     "output_type": "stream",
     "text": [
      "Hello World!\n"
     ]
    }
   ],
   "source": [
    "print(\"Hello World!\")"
   ]
  },
  {
   "cell_type": "code",
   "execution_count": 2,
   "metadata": {},
   "outputs": [
    {
     "name": "stdout",
     "output_type": "stream",
     "text": [
      "Welcome to Rock, Paper, Scissors! \n",
      "\n",
      "          This game was developed by Paul\n",
      "Game rules: \n",
      "          Rock beats Scissors\n",
      "          Scissors beats Paper\n",
      "          Paper beats Rock\n",
      "Game modes:\n",
      "            1 - Human vs Human\n",
      "            2 - Human vs Computer\n",
      "Player1: paul vs Player2: jess\n",
      "paul choices: Press \n",
      "            1 for Rock, \n",
      "            2 for Paper, \n",
      "            3 for Scissors\n"
     ]
    },
    {
     "ename": "KeyboardInterrupt",
     "evalue": "",
     "output_type": "error",
     "traceback": [
      "\u001b[1;31m---------------------------------------------------------------------------\u001b[0m",
      "\u001b[1;31mKeyboardInterrupt\u001b[0m                         Traceback (most recent call last)",
      "Cell \u001b[1;32mIn[2], line 105\u001b[0m\n\u001b[0;32m    100\u001b[0m             \u001b[38;5;28mprint\u001b[39m(\u001b[38;5;124m\"\"\"\u001b[39m\u001b[38;5;124mPlease enter a valid option.\u001b[39m\n\u001b[0;32m    101\u001b[0m \u001b[38;5;124m                Type exit to quit the game\u001b[39m\u001b[38;5;124m\"\"\"\u001b[39m)\n\u001b[0;32m    104\u001b[0m \u001b[38;5;28;01mif\u001b[39;00m \u001b[38;5;18m__name__\u001b[39m \u001b[38;5;241m==\u001b[39m \u001b[38;5;124m\"\u001b[39m\u001b[38;5;124m__main__\u001b[39m\u001b[38;5;124m\"\u001b[39m:\n\u001b[1;32m--> 105\u001b[0m     \u001b[43mmain\u001b[49m\u001b[43m(\u001b[49m\u001b[43m)\u001b[49m\n",
      "Cell \u001b[1;32mIn[2], line 89\u001b[0m, in \u001b[0;36mmain\u001b[1;34m()\u001b[0m\n\u001b[0;32m     86\u001b[0m player2 \u001b[38;5;241m=\u001b[39m \u001b[38;5;28minput\u001b[39m(\u001b[38;5;124m\"\u001b[39m\u001b[38;5;124mEnter Player2 name: \u001b[39m\u001b[38;5;124m\"\u001b[39m)\n\u001b[0;32m     88\u001b[0m \u001b[38;5;28mprint\u001b[39m(\u001b[38;5;124mf\u001b[39m\u001b[38;5;124m\"\u001b[39m\u001b[38;5;124mPlayer1: \u001b[39m\u001b[38;5;132;01m{\u001b[39;00mplayer1\u001b[38;5;132;01m}\u001b[39;00m\u001b[38;5;124m vs Player2: \u001b[39m\u001b[38;5;132;01m{\u001b[39;00mplayer2\u001b[38;5;132;01m}\u001b[39;00m\u001b[38;5;124m\"\u001b[39m)\n\u001b[1;32m---> 89\u001b[0m player1_choice \u001b[38;5;241m=\u001b[39m \u001b[43mchoice\u001b[49m\u001b[43m(\u001b[49m\u001b[43mplayer1\u001b[49m\u001b[43m)\u001b[49m\n\u001b[0;32m     90\u001b[0m player2_choice \u001b[38;5;241m=\u001b[39m choice(player2)\n\u001b[0;32m     91\u001b[0m \u001b[38;5;28mprint\u001b[39m(winner(player1, player2, player1_choice, player2_choice))\n",
      "Cell \u001b[1;32mIn[2], line 30\u001b[0m, in \u001b[0;36mchoice\u001b[1;34m(player)\u001b[0m\n\u001b[0;32m     28\u001b[0m \u001b[38;5;28mprint\u001b[39m(choices_message)\n\u001b[0;32m     29\u001b[0m p_choice \u001b[38;5;241m=\u001b[39m \u001b[38;5;28mint\u001b[39m(\u001b[38;5;28minput\u001b[39m(\u001b[38;5;124m\"\u001b[39m\u001b[38;5;124mEnter your choice: \u001b[39m\u001b[38;5;124m\"\u001b[39m))\n\u001b[1;32m---> 30\u001b[0m \u001b[38;5;28;01mwhile\u001b[39;00m \u001b[38;5;28;01mTrue\u001b[39;00m:\n\u001b[0;32m     31\u001b[0m     \u001b[38;5;28;01mif\u001b[39;00m p_choice \u001b[38;5;241m==\u001b[39m \u001b[38;5;241m1\u001b[39m:\n\u001b[0;32m     32\u001b[0m         object_played \u001b[38;5;241m=\u001b[39m \u001b[38;5;124mf\u001b[39m\u001b[38;5;124m\"\u001b[39m\u001b[38;5;132;01m{\u001b[39;00mplayer\u001b[38;5;132;01m}\u001b[39;00m\u001b[38;5;124m chose Rock\u001b[39m\u001b[38;5;124m\"\u001b[39m\n",
      "\u001b[1;31mKeyboardInterrupt\u001b[0m: "
     ]
    }
   ],
   "source": [
    "import msvcrt\n",
    "\n",
    "# Rock, Paper, Scissors game in command line\n",
    "# Upon running the program, text is \"Welcome to Rock, Paper, Scissors! \\n This game was developed by Paul\"\n",
    "\n",
    "def masked_input(prompt=\"\"):\n",
    "    print(prompt, end=\"\", flush=True)\n",
    "    actual_input = \"\"\n",
    "    while True:\n",
    "        char = msvcrt.getch()  # Get a single character\n",
    "        if char == b'\\r':  # Enter key (Carriage Return)\n",
    "            print()  # Move to the next line\n",
    "            break\n",
    "        elif char == b'\\x08':  # Backspace key\n",
    "            if actual_input:  # Only if there are characters to delete\n",
    "                actual_input = actual_input[:-1]\n",
    "                print(\"\\b \\b\", end=\"\", flush=True)\n",
    "        else:\n",
    "            actual_input += char.decode('utf-8')  # Decode byte to string\n",
    "            print(\"*\", end=\"\", flush=True)\n",
    "    return actual_input\n",
    "\n",
    "def choice(player):\n",
    "    choices_message = f\"\"\"{player} choices: Press \n",
    "            1 for Rock, \n",
    "            2 for Paper, \n",
    "            3 for Scissors\"\"\"\n",
    "    print(choices_message)\n",
    "    p_choice = int(input(\"Enter your choice: \"))\n",
    "    while True:\n",
    "        if p_choice == 1:\n",
    "            object_played = f\"{player} chose Rock\"\n",
    "        elif p_choice == 2:\n",
    "            object_played = f\"{player} chose Paper\"\n",
    "        elif p_choice == 3:\n",
    "            object_played = f\"{player} chose Scissors\"\n",
    "        else:\n",
    "            print(\"Invalid choice\")\n",
    "            print(choices_message)\n",
    "    print(object_played)\n",
    "    return p_choice\n",
    "        \n",
    "def winner(player1, player2, player1_choice, player2_choice):\n",
    "    if player1_choice == 1 and player2_choice == 3:\n",
    "        result = \"Player2 wins!\"\n",
    "    elif player1_choice == 2 and player2_choice == 1:\n",
    "        result = \"Player1 wins!\"\n",
    "    elif player1_choice == 3 and player2_choice == 2:\n",
    "        result = \"Player1 wins!\"\n",
    "    elif player1_choice == 1 and player2_choice == 2:\n",
    "        result = \"Player2 wins!\"\n",
    "    elif player1_choice == 2 and player2_choice == 3:\n",
    "        result = \"Player2 wins!\"\n",
    "    elif player1_choice == 3 and player2_choice == 2:\n",
    "        result = \"Player1 wins!\"\n",
    "    else:\n",
    "        result = \"It's a tie!\"\n",
    "    return result\n",
    "    \n",
    "\n",
    "def main():\n",
    "    print(\"\"\"Welcome to Rock, Paper, Scissors! \\n\n",
    "          This game was developed by Paul\"\"\")\n",
    "    \n",
    "    print(\"\"\"Game rules: \n",
    "          Rock beats Scissors\n",
    "          Scissors beats Paper\n",
    "          Paper beats Rock\"\"\")\n",
    "    \n",
    "    option = input(\"Start game (y/n): \")\n",
    "\n",
    "    if option == \"y\":\n",
    "        print(\"\"\"Game modes:\n",
    "            1 - Human vs Human\n",
    "            2 - Human vs Computer\"\"\")\n",
    "        \n",
    "        mode_chosen = int(input(\"Choose game mode (1 or 2): \"))            \n",
    "    else:\n",
    "        print(\"Goodbye!\")\n",
    "        exit()\n",
    "\n",
    "    while True:\n",
    "        if mode_chosen == 1 or mode_chosen == 2:\n",
    "            if mode_chosen == 1:\n",
    "                player1 = input(\"Enter Player1 name: \")\n",
    "                player2 = input(\"Enter Player2 name: \")\n",
    "                \n",
    "                print(f\"Player1: {player1} vs Player2: {player2}\")\n",
    "                player1_choice = choice(player1)\n",
    "                player2_choice = choice(player2)\n",
    "                print(winner(player1, player2, player1_choice, player2_choice))\n",
    "                \n",
    "            elif mode_chosen == 2:\n",
    "                player1 = input(\"Enter Player1 name: \")\n",
    "                player2 = \"Computer\"\n",
    "        elif mode_chosen == \"exit\":\n",
    "            print(\"Goodbye!\")\n",
    "            exit()\n",
    "        else:\n",
    "            print(\"\"\"Please enter a valid option.\n",
    "                Type exit to quit the game\"\"\")\n",
    "        \n",
    "    \n",
    "if __name__ == \"__main__\":\n",
    "    main()\n",
    "    \n",
    "\n",
    "\n",
    "\n",
    "\n"
   ]
  },
  {
   "cell_type": "code",
   "execution_count": 5,
   "metadata": {},
   "outputs": [
    {
     "name": "stdout",
     "output_type": "stream",
     "text": [
      "A\n",
      "B\n",
      "C\n"
     ]
    }
   ],
   "source": [
    "def foo1():\n",
    "    print(\"A\")        # Prints \"A\"\n",
    "    foo2()            # Calls foo2, which prints \"B\"\n",
    "    foo3()            # Calls foo3, which prints \"C\"\n",
    "\n",
    "def foo2():\n",
    "    print(\"B\")        # Prints \"B\"\n",
    "\n",
    "def foo3():\n",
    "    print(\"C\")        # Prints \"C\"\n",
    "\n",
    "# Call foo1\n",
    "foo1()"
   ]
  },
  {
   "cell_type": "code",
   "execution_count": 7,
   "metadata": {},
   "outputs": [
    {
     "name": "stdout",
     "output_type": "stream",
     "text": [
      "Foo1\n"
     ]
    },
    {
     "ename": "TypeError",
     "evalue": "'NoneType' object is not callable",
     "output_type": "error",
     "traceback": [
      "\u001b[1;31m---------------------------------------------------------------------------\u001b[0m",
      "\u001b[1;31mTypeError\u001b[0m                                 Traceback (most recent call last)",
      "Cell \u001b[1;32mIn[7], line 2\u001b[0m\n\u001b[0;32m      1\u001b[0m foo1 \u001b[38;5;241m=\u001b[39m \u001b[38;5;28mprint\u001b[39m(\u001b[38;5;124m\"\u001b[39m\u001b[38;5;124mFoo1\u001b[39m\u001b[38;5;124m\"\u001b[39m)\n\u001b[1;32m----> 2\u001b[0m \u001b[38;5;28mprint\u001b[39m(\u001b[43mfoo1\u001b[49m\u001b[43m(\u001b[49m\u001b[43m)\u001b[49m)\n",
      "\u001b[1;31mTypeError\u001b[0m: 'NoneType' object is not callable"
     ]
    }
   ],
   "source": [
    "foo1 = print(\"Foo1\")\n",
    "print(foo1())"
   ]
  }
 ],
 "metadata": {
  "kernelspec": {
   "display_name": ".venv",
   "language": "python",
   "name": "python3"
  },
  "language_info": {
   "codemirror_mode": {
    "name": "ipython",
    "version": 3
   },
   "file_extension": ".py",
   "mimetype": "text/x-python",
   "name": "python",
   "nbconvert_exporter": "python",
   "pygments_lexer": "ipython3",
   "version": "3.12.2"
  }
 },
 "nbformat": 4,
 "nbformat_minor": 2
}
